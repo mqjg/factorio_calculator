{
 "cells": [
  {
   "cell_type": "code",
   "execution_count": 4,
   "id": "97a6133f-ebd6-4a45-b9d1-69004e4a7155",
   "metadata": {},
   "outputs": [],
   "source": [
    "import pandas as pd\n",
    "from math import ceil"
   ]
  },
  {
   "cell_type": "code",
   "execution_count": 5,
   "id": "8c4a9529-53d8-4300-bdb5-132cbcfa5db6",
   "metadata": {},
   "outputs": [],
   "source": [
    "# recipes are stored in dictionaires. Inputs and outputs are stored in lists of tuples.\n",
    "# The first element of the tuple is the number of items needed/produced, the second element is the name\n",
    "# of the item. The amount of time the recipe takes to make is given in seconds.\n",
    "# assume 1 recipes per item\n",
    "recipes = {'Iron Ingot': {'in': [(1,'Iron Ore')], 'out': [(1, 'Iron Ingot')], 'time': 1, 'machine': 'Smelter'},\n",
    "           'Copper Ingot': {'in': [(1,'Copper Ore')], 'out': [(1, 'Copper Ingot')], 'time': 1, 'machine': 'Smelter'},\n",
    "           'Stone Brick': {'in': [(1,'Stone')], 'out': [(1, 'Stone Brick')], 'time': 1, 'machine': 'Smelter'},\n",
    "           'Energetic Graphite': {'in': [(2,'Coal')], 'out': [(1, 'Energetic Graphite')], 'time': 2, 'machine': 'Smelter'}, # has alternative recipes not included\n",
    "           'High-Purity Silicon': {'in': [(2,'Silicon Ore')], 'out': [(1, 'High-Purity Silicon')], 'time': 2, 'machine': 'Smelter'},\n",
    "           'Titanium Ingot': {'in': [(2,'Titanium Ore')], 'out': [(1, 'Titanium Ingot')], 'time': 2, 'machine': 'Smelter'},\n",
    "           'Magnet': {'in': [(1,'Iron Ore')], 'out': [(1, 'Magnet')], 'time': 1.5, 'machine': 'Smelter'},\n",
    "           'Glass': {'in': [(2,'Stone')], 'out': [(1, 'Glass')], 'time': 2, 'machine': 'Smelter'},\n",
    "           'Diamond': {'in': [(1,'Kimberlite Ore')], 'out': [(2, 'Diamond')], 'time': 1.5, 'machine': 'Smelter'}, # has alternative recipes not included\n",
    "           'Crystal Silicon': {'in': [(1,'Fractal Silicon')], 'out': [(2, 'Crystal Silicon')], 'time': 1.5, 'machine': 'Assembler'}, # has alternative recipes not included\n",
    "           'Refined Oil': {'in': [(2,'Crude Oil')], 'out': [(2, 'Refined Oil'), (1, 'Hydrogen')], 'time': 4, 'machine': 'Refiner'}, # has alternative recipes not included\n",
    "\n",
    "           'Steel': {'in': [(3,'Iron Ingot')], 'out': [(1, 'Steel')], 'time': 3, 'machine': 'Smelter'},\n",
    "           'Gear': {'in': [(1,'Iron Ingot')], 'out': [(1, 'Gear')], 'time': 1, 'machine': 'Assembler'},\n",
    "           'Prism': {'in': [(3,'Glass')], 'out': [(2, 'Prism')], 'time': 2, 'machine': 'Assembler'},\n",
    "           'Circuit Board': {'in': [(2,'Iron Ingot'), (1,'Copper Ingot')], 'out': [(2, 'Circuit Board')], 'time': 1, 'machine': 'Assembler'},\n",
    "           'Microcrystalline Component': {'in': [(2,'High-Purity Silicon'), (1,'Copper Ingot')], 'out': [(1, 'Microcrystalline Component')], 'time': 2, 'machine': 'Assembler'},\n",
    "           'Magnetic Coil': {'in': [(2, 'Magnet'), (1,'Copper Ingot')], 'out': [(2, 'Magnetic Coil')], 'time': 1, 'machine': 'Assembler'},\n",
    "           'Plastic': {'in': [(2, 'Refined Oil'), (1,'Energetic Graphite')], 'out': [(1, 'Plastic')], 'time': 3, 'machine': 'Chemical_Plant'},\n",
    "           \n",
    "           'Processor': {'in': [(2, 'Circuit Board'), (2, 'Microcrystalline Component')], 'out': [(1, 'Processor')], 'time': 3, 'machine': 'Assembler'},\n",
    "           'Electric Motor': {'in': [(2,'Iron Ingot'), (1,'Gear'), (1,'Magnetic Coil')], 'out': [(1, 'Electric Motor')], 'time': 2, 'machine': 'Assembler'}, \n",
    "           'Titanium Alloy': {'in': [(4,'Titanium Ingot'), (4,'Steel'), (4,'Sulfuric Acid')], 'out': [(4, 'Titanium Alloy')], 'time': 12, 'machine': 'Smelter'}, \n",
    "\n",
    "           'Electromagnetic Turbine': {'in': [(2, 'Electric Motor'), (2, 'Magnetic Coil')], 'out': [(1, 'Electromagnetic Turbine')], 'time': 2, 'machine': 'Assembler'},\n",
    "\n",
    "           'Super-Magnetic Ring': {'in': [(2, 'Electromagnetic Turbine'), (3, 'Magnet'), (1, 'Energetic Graphite')], 'out': [(1, 'Super-Magnetic Ring')], 'time': 3, 'machine': 'Assembler'},\n",
    "          }\n",
    "           "
   ]
  },
  {
   "cell_type": "code",
   "execution_count": 6,
   "id": "ae4b40cc-89f7-4a9f-b706-c0fdd0ef4ac4",
   "metadata": {},
   "outputs": [],
   "source": [
    "factory_props = {'Assembler': 1,\n",
    "                 'Smelter': 1,\n",
    "                 'Refiner': 1,\n",
    "                 'Chemical_Plant': 1,\n",
    "                 'Collider': 1,\n",
    "                 'prolif': 1}\n",
    "\n",
    "alternative_recipe_usage = {'Diamond': True}\n",
    "\n",
    "def get_n(item_name, recipe):\n",
    "    for out in recipe['out']:\n",
    "        n, item = out\n",
    "        if item == item_name:\n",
    "            return n\n",
    "    return None\n",
    "    \n",
    "def recursive_create_assembly_line(item_name, items_per_second, factory_props=factory_props, recipes=recipes):\n",
    "    if item_name not in recipes.keys(): \n",
    "        return None\n",
    "\n",
    "    # Get information about recipes and factory properties\n",
    "    recipe = recipes[item_name]\n",
    "    n = get_n(item_name, recipe)\n",
    "    time = recipe['time']\n",
    "    machine_rate = factory_props[recipe['machine']]\n",
    "    prolif_rate = factory_props['prolif']\n",
    "\n",
    "    # compute rates\n",
    "    base_rate = n / time\n",
    "    scaled_rate = base_rate * machine_rate * prolif_rate\n",
    "    machines = items_per_second / scaled_rate\n",
    "\n",
    "    # add information to dictionary\n",
    "    assembly_line = {item_name: [machines, items_per_second]}\n",
    "\n",
    "    # repeat process for all ingedients\n",
    "    for ingedient in recipe['in']:\n",
    "        n, sub_item = ingedient\n",
    "        base_rate = (n / time) * machines\n",
    "        sub_assembly_line = recursive_create_assembly_line(sub_item, base_rate, factory_props=factory_props, recipes=recipes)\n",
    "\n",
    "        # update assembly_line dictionary\n",
    "        if sub_assembly_line:\n",
    "            for key, value in sub_assembly_line.items():\n",
    "                if key in assembly_line.keys():\n",
    "                    old_machines, old_ips = assembly_line[key]\n",
    "                    sub_machines, sub_ips = value\n",
    "                    assembly_line[key] = [old_machines + sub_machines, old_ips + sub_ips]\n",
    "                else:\n",
    "                    assembly_line[key] = value\n",
    "\n",
    "    return assembly_line\n",
    "\n",
    "def create_assembly_line(item_name, items_per_second, factory_props=factory_props, recipes=recipes):\n",
    "    assembly_line = recursive_create_assembly_line(item_name, items_per_second, factory_props=factory_props, recipes=recipes)\n",
    "    return pd.DataFrame.from_dict(assembly_line, orient ='index', columns=['Machines','Items/Second'])"
   ]
  },
  {
   "cell_type": "code",
   "execution_count": 7,
   "id": "37bfcf46-92d5-4211-90f6-7b5db63714b0",
   "metadata": {},
   "outputs": [
    {
     "data": {
      "text/plain": [
       "{'Processor': [3.0, 1],\n",
       " 'Circuit Board': [1.0, 2.0],\n",
       " 'Iron Ingot': [2.0, 2.0],\n",
       " 'Copper Ingot': [3.0, 3.0],\n",
       " 'Microcrystalline Component': [4.0, 2.0],\n",
       " 'High-Purity Silicon': [8.0, 4.0]}"
      ]
     },
     "execution_count": 7,
     "metadata": {},
     "output_type": "execute_result"
    }
   ],
   "source": [
    "recursive_create_assembly_line('Processor', 1, factory_props=factory_props)"
   ]
  },
  {
   "cell_type": "code",
   "execution_count": 8,
   "id": "ee9ae3b9-8daa-4f6e-b8df-e6791f726fae",
   "metadata": {},
   "outputs": [
    {
     "data": {
      "text/plain": [
       "{'Electric Motor': [2.0, 1],\n",
       " 'Iron Ingot': [3.0, 3.0],\n",
       " 'Gear': [1.0, 1.0],\n",
       " 'Magnetic Coil': [0.5, 1.0],\n",
       " 'Magnet': [1.5, 1.0],\n",
       " 'Copper Ingot': [0.5, 0.5]}"
      ]
     },
     "execution_count": 8,
     "metadata": {},
     "output_type": "execute_result"
    }
   ],
   "source": [
    "recursive_create_assembly_line('Electric Motor', 1, factory_props=factory_props)"
   ]
  },
  {
   "cell_type": "code",
   "execution_count": 9,
   "id": "9c705987-15db-4525-9e81-eed8a5fe0117",
   "metadata": {},
   "outputs": [
    {
     "data": {
      "text/html": [
       "<div>\n",
       "<style scoped>\n",
       "    .dataframe tbody tr th:only-of-type {\n",
       "        vertical-align: middle;\n",
       "    }\n",
       "\n",
       "    .dataframe tbody tr th {\n",
       "        vertical-align: top;\n",
       "    }\n",
       "\n",
       "    .dataframe thead th {\n",
       "        text-align: right;\n",
       "    }\n",
       "</style>\n",
       "<table border=\"1\" class=\"dataframe\">\n",
       "  <thead>\n",
       "    <tr style=\"text-align: right;\">\n",
       "      <th></th>\n",
       "      <th>Machines</th>\n",
       "      <th>Items/Second</th>\n",
       "    </tr>\n",
       "  </thead>\n",
       "  <tbody>\n",
       "    <tr>\n",
       "      <th>Electromagnetic Turbine</th>\n",
       "      <td>2.0</td>\n",
       "      <td>1.0</td>\n",
       "    </tr>\n",
       "    <tr>\n",
       "      <th>Electric Motor</th>\n",
       "      <td>4.0</td>\n",
       "      <td>2.0</td>\n",
       "    </tr>\n",
       "    <tr>\n",
       "      <th>Iron Ingot</th>\n",
       "      <td>6.0</td>\n",
       "      <td>6.0</td>\n",
       "    </tr>\n",
       "    <tr>\n",
       "      <th>Gear</th>\n",
       "      <td>2.0</td>\n",
       "      <td>2.0</td>\n",
       "    </tr>\n",
       "    <tr>\n",
       "      <th>Magnetic Coil</th>\n",
       "      <td>2.0</td>\n",
       "      <td>4.0</td>\n",
       "    </tr>\n",
       "    <tr>\n",
       "      <th>Magnet</th>\n",
       "      <td>6.0</td>\n",
       "      <td>4.0</td>\n",
       "    </tr>\n",
       "    <tr>\n",
       "      <th>Copper Ingot</th>\n",
       "      <td>2.0</td>\n",
       "      <td>2.0</td>\n",
       "    </tr>\n",
       "  </tbody>\n",
       "</table>\n",
       "</div>"
      ],
      "text/plain": [
       "                         Machines  Items/Second\n",
       "Electromagnetic Turbine       2.0           1.0\n",
       "Electric Motor                4.0           2.0\n",
       "Iron Ingot                    6.0           6.0\n",
       "Gear                          2.0           2.0\n",
       "Magnetic Coil                 2.0           4.0\n",
       "Magnet                        6.0           4.0\n",
       "Copper Ingot                  2.0           2.0"
      ]
     },
     "execution_count": 9,
     "metadata": {},
     "output_type": "execute_result"
    }
   ],
   "source": [
    "create_assembly_line('Electromagnetic Turbine', 1, factory_props=factory_props)"
   ]
  },
  {
   "cell_type": "code",
   "execution_count": 10,
   "id": "205bc357-8301-4e9f-8b85-a863d9981de2",
   "metadata": {},
   "outputs": [
    {
     "data": {
      "text/html": [
       "<div>\n",
       "<style scoped>\n",
       "    .dataframe tbody tr th:only-of-type {\n",
       "        vertical-align: middle;\n",
       "    }\n",
       "\n",
       "    .dataframe tbody tr th {\n",
       "        vertical-align: top;\n",
       "    }\n",
       "\n",
       "    .dataframe thead th {\n",
       "        text-align: right;\n",
       "    }\n",
       "</style>\n",
       "<table border=\"1\" class=\"dataframe\">\n",
       "  <thead>\n",
       "    <tr style=\"text-align: right;\">\n",
       "      <th></th>\n",
       "      <th>Machines</th>\n",
       "      <th>Items/Second</th>\n",
       "    </tr>\n",
       "  </thead>\n",
       "  <tbody>\n",
       "    <tr>\n",
       "      <th>Super-Magnetic Ring</th>\n",
       "      <td>3.0</td>\n",
       "      <td>1.0</td>\n",
       "    </tr>\n",
       "    <tr>\n",
       "      <th>Electromagnetic Turbine</th>\n",
       "      <td>4.0</td>\n",
       "      <td>2.0</td>\n",
       "    </tr>\n",
       "    <tr>\n",
       "      <th>Electric Motor</th>\n",
       "      <td>8.0</td>\n",
       "      <td>4.0</td>\n",
       "    </tr>\n",
       "    <tr>\n",
       "      <th>Iron Ingot</th>\n",
       "      <td>12.0</td>\n",
       "      <td>12.0</td>\n",
       "    </tr>\n",
       "    <tr>\n",
       "      <th>Gear</th>\n",
       "      <td>4.0</td>\n",
       "      <td>4.0</td>\n",
       "    </tr>\n",
       "    <tr>\n",
       "      <th>Magnetic Coil</th>\n",
       "      <td>4.0</td>\n",
       "      <td>8.0</td>\n",
       "    </tr>\n",
       "    <tr>\n",
       "      <th>Magnet</th>\n",
       "      <td>16.5</td>\n",
       "      <td>11.0</td>\n",
       "    </tr>\n",
       "    <tr>\n",
       "      <th>Copper Ingot</th>\n",
       "      <td>4.0</td>\n",
       "      <td>4.0</td>\n",
       "    </tr>\n",
       "    <tr>\n",
       "      <th>Energetic Graphite</th>\n",
       "      <td>2.0</td>\n",
       "      <td>1.0</td>\n",
       "    </tr>\n",
       "  </tbody>\n",
       "</table>\n",
       "</div>"
      ],
      "text/plain": [
       "                         Machines  Items/Second\n",
       "Super-Magnetic Ring           3.0           1.0\n",
       "Electromagnetic Turbine       4.0           2.0\n",
       "Electric Motor                8.0           4.0\n",
       "Iron Ingot                   12.0          12.0\n",
       "Gear                          4.0           4.0\n",
       "Magnetic Coil                 4.0           8.0\n",
       "Magnet                       16.5          11.0\n",
       "Copper Ingot                  4.0           4.0\n",
       "Energetic Graphite            2.0           1.0"
      ]
     },
     "execution_count": 10,
     "metadata": {},
     "output_type": "execute_result"
    }
   ],
   "source": [
    "create_assembly_line('Super-Magnetic Ring', 1, factory_props=factory_props)"
   ]
  }
 ],
 "metadata": {
  "kernelspec": {
   "display_name": "Python 3 (ipykernel)",
   "language": "python",
   "name": "python3"
  },
  "language_info": {
   "codemirror_mode": {
    "name": "ipython",
    "version": 3
   },
   "file_extension": ".py",
   "mimetype": "text/x-python",
   "name": "python",
   "nbconvert_exporter": "python",
   "pygments_lexer": "ipython3",
   "version": "3.10.12"
  }
 },
 "nbformat": 4,
 "nbformat_minor": 5
}
